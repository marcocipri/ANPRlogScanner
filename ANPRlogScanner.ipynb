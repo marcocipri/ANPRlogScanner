{
 "cells": [
  {
   "cell_type": "code",
   "execution_count": null,
   "metadata": {},
   "outputs": [],
   "source": [
    "#from each log file, made a csv file\n",
    "import pathlib\n",
    "import csv\n",
    "import sys\n",
    "import pandas as pd\n",
    "\n",
    "py = pathlib.Path().glob(\"*.log\")\n",
    "for file in py:\n",
    "    print(file)\n",
    "    logFile=file\n",
    "# open file\n",
    "    #df = pd.DataFrame(columns=['time','cf','delay','type'])\n",
    "    with open(logFile, 'r') as f:\n",
    "        wr = open(str(logFile)+'.csv', 'w')\n",
    "        reader = csv.reader(f,delimiter=' ')\n",
    "        writer = csv.writer(wr, delimiter=';')\n",
    "\n",
    "    # read file row by row\n",
    "        for row in reader:\n",
    "            if row[14].strip() is ':' :\n",
    "                   #print(row[15].strip())\n",
    "                   delay = row[15].strip()\n",
    "                   #print(row[19].strip())\n",
    "                   types=row[19].split(\"]\")[0].strip()\n",
    "            else:\n",
    "                   delay = row[14].strip()\n",
    "                   types=row[18].split(\"]\")[0].strip()\n",
    "            time=row[1].split(\",\")[0].strip(' ')\n",
    "            cf=row[7].strip(' ' )\n",
    "#        entry=row[1].split(\",\")[0].strip(' ')+';'+row[7].strip(' ' )+';'+ row[14].strip()+';'+ row[18].split(\"]\")[0].strip()\n",
    "#        print(row[1].split(\",\")[0].strip(' '),';',row[7].strip(' ' ),';', row[14].strip(),';', row[18].split(\"]\")[0].strip())\n",
    "            entry=time + ';' + cf+ ';' + delay + ';' + types\n",
    "#        print(str(entry).replace(\" \", \"\"))\n",
    "            #print(entry)\n",
    "            #df = df.append({'time': time,'cf': cf,'delay': delay,'type': type}, ignore_index=True)\n",
    "            writer.writerow([time,cf,delay,types])\n",
    "  "
   ]
  },
  {
   "cell_type": "code",
   "execution_count": null,
   "metadata": {},
   "outputs": [],
   "source": [
    "!ls\n"
   ]
  },
  {
   "cell_type": "code",
   "execution_count": null,
   "metadata": {
    "scrolled": true
   },
   "outputs": [],
   "source": [
    "import matplotlib.pyplot as plt\n",
    "import numpy as np\n",
    "import pandas as pd\n",
    "import pathlib\n",
    "\n",
    "report ={}\n",
    "reportdataNo3003={}\n",
    "\n",
    "py = pathlib.Path().glob(\"*.log.csv\")\n",
    "for file in py:\n",
    "    print(file)\n",
    "    logFile=file\n",
    "    \n",
    "    data = pd.read_csv(str(logFile), delimiter=';',names=['time', 'cf', 'delay', 'type']) \n",
    "\n",
    "    data=data.assign(limit=1800)\n",
    "\n",
    "    df = pd.DataFrame(data,\n",
    "         columns=['delay', 'time', 'limit'])\n",
    "    data.plot(x='time',figsize=(30, 10),title='global \\n more than 1800ms '  + str(len(data[data.delay > 1800])/len(data)*100) + ' %'+ '\\n total ' + str(len(data)))\n",
    "\n",
    "    ## delete NAN rows\n",
    "    data[pd.isnull(data).any(axis=1)]\n",
    "    data=data.dropna()\n",
    "    data[pd.isnull(data).any(axis=1)]\n",
    "    ## delete 'sonda rows'\n",
    "    #data[data['cf'].str.contains(\"onda\")]\n",
    "    data = data[data['cf'].str.contains(\"onda\")== False]\n",
    "    data[data['cf'].str.contains(\"onda\")]\n",
    "    fig=data.plot(x='time',figsize=(30, 10),title='global no Sonda \\n more than 1800ms '+ str(len(data[data.delay > 1800])/len(data)*100) + ' %' + '\\n total ' + str(len(data))).get_figure()\n",
    "    fig.savefig('./graph/' + str(logFile)+'-'+ 'global' +'.png')\n",
    "    for callType in data.type.unique():\n",
    "    #print(callType)\n",
    "        tempData = data[data['type']==str(callType)]\n",
    "        fig = tempData.plot(x='time',figsize=(30, 10),title=str(logFile) + '\\n calltype  ' + str(callType) + '\\n total ' + str(len(tempData)) + '  \\n more than 1800ms ' + str(len(tempData[tempData.delay > 1800])/len(tempData)*100) + ' %',\n",
    "                x_compat=False, rot=45).get_figure()\n",
    "        fig.savefig('./graph/' + str(logFile)+'-'+str(callType)+'.png')\n",
    "\n",
    "    dataNo3003 = data[data['type'].str.contains(\"eseguiServizio3003_gestioneRichieste\")== False]\n",
    "    fig = dataNo3003.plot(x='time',figsize=(30, 10),title=str(logFile) + '\\n calltype  ' + ' dataNo3003 ' + '\\n total ' + str(len(dataNo3003)) + '  \\n more than 1800ms ' + str(len(dataNo3003[dataNo3003.delay > 1800])/len(dataNo3003)*100) + ' %',\n",
    "                x_compat=False, rot=45).get_figure()\n",
    "    fig.savefig('./graph/' + str(logFile)+'-'+'dataNo3003'+'.png')\n",
    "    report[str(logFile)]=len(data[data.delay > 1800])/len(data)*100\n",
    "    reportdataNo3003[str(logFile)]=len(dataNo3003[dataNo3003.delay > 1800])/len(dataNo3003)*100\n",
    "\n"
   ]
  },
  {
   "cell_type": "code",
   "execution_count": null,
   "metadata": {},
   "outputs": [],
   "source": [
    "data=data.dropna()"
   ]
  },
  {
   "cell_type": "code",
   "execution_count": null,
   "metadata": {},
   "outputs": [],
   "source": [
    "data[pd.isnull(data).any(axis=1)]"
   ]
  },
  {
   "cell_type": "code",
   "execution_count": null,
   "metadata": {},
   "outputs": [],
   "source": [
    "report"
   ]
  },
  {
   "cell_type": "code",
   "execution_count": null,
   "metadata": {},
   "outputs": [],
   "source": [
    "\n",
    "reportdataNo3003"
   ]
  },
  {
   "cell_type": "code",
   "execution_count": null,
   "metadata": {},
   "outputs": [],
   "source": [
    "#from each log file, made a csv file\n",
    "import pathlib\n",
    "import csv\n",
    "import sys\n",
    "import pandas as pd\n",
    "\n",
    "py = pathlib.Path().glob(\"all.log\")\n",
    "for file in py:\n",
    "    print(file)\n",
    "    logFile=file\n",
    "# open file\n",
    "    #df = pd.DataFrame(columns=['time','cf','delay','type'])\n",
    "    with open(logFile, 'r') as f:\n",
    "        wr = open(str(logFile)+'.csv', 'w')\n",
    "        reader = csv.reader(f,delimiter=' ')\n",
    "        writer = csv.writer(wr, delimiter=';')\n",
    "\n",
    "    # read file row by row\n",
    "        for row in reader:\n",
    "            if row[14].strip() is ':' :\n",
    "                   #print(row[15].strip())\n",
    "                   delay = row[15].strip()\n",
    "                   #print(row[19].strip())\n",
    "                   types=row[19].split(\"]\")[0].strip()\n",
    "            else:\n",
    "                   delay = row[14].strip()\n",
    "                   types=row[18].split(\"]\")[0].strip()\n",
    "            time=row[1].split(\",\")[0].strip(' ')\n",
    "            cf=row[7].strip(' ' )\n",
    "#        entry=row[1].split(\",\")[0].strip(' ')+';'+row[7].strip(' ' )+';'+ row[14].strip()+';'+ row[18].split(\"]\")[0].strip()\n",
    "#        print(row[1].split(\",\")[0].strip(' '),';',row[7].strip(' ' ),';', row[14].strip(),';', row[18].split(\"]\")[0].strip())\n",
    "            entry=time + ';' + cf+ ';' + delay + ';' + types\n",
    "#        print(str(entry).replace(\" \", \"\"))\n",
    "            #print(entry)\n",
    "            #df = df.append({'time': time,'cf': cf,'delay': delay,'type': type}, ignore_index=True)\n",
    "            writer.writerow([time,cf,delay,types])\n",
    "  "
   ]
  },
  {
   "cell_type": "code",
   "execution_count": null,
   "metadata": {},
   "outputs": [],
   "source": [
    "import matplotlib.pyplot as plt\n",
    "import numpy as np\n",
    "import pandas as pd\n",
    "import pathlib\n",
    "\n",
    "report ={}\n",
    "reportdataNo3003={}\n",
    "\n",
    "py = pathlib.Path().glob(\"all.log.csv\")\n",
    "for file in py:\n",
    "    print(file)\n",
    "    logFile=file\n",
    "    \n",
    "    data = pd.read_csv(str(logFile), delimiter=';',names=['time', 'cf', 'delay', 'type']) \n",
    "\n",
    "    data=data.assign(limit=1800)\n",
    "\n",
    "    df = pd.DataFrame(data,\n",
    "         columns=['delay', 'time', 'limit'])\n",
    "\n",
    "    ## delete NAN rows\n",
    "    data[pd.isnull(data).any(axis=1)]\n",
    "    data=data.dropna()\n",
    "    data[pd.isnull(data).any(axis=1)]\n",
    "    ## delete 'sonda rows'\n",
    "    #data[data['cf'].str.contains(\"onda\")]\n",
    "    data = data[data['cf'].str.contains(\"onda\")== False]\n",
    "    data[data['cf'].str.contains(\"onda\")]\n",
    "\n",
    "\n",
    "    dataNo3003 = data[data['type'].str.contains(\"eseguiServizio3003_gestioneRichieste\")== False]\n",
    "\n",
    "    report[str(logFile)]=len(data[data.delay > 1800])/len(data)*100\n",
    "    reportdataNo3003[str(logFile)]=len(dataNo3003[dataNo3003.delay > 1800])/len(dataNo3003)*100\n"
   ]
  },
  {
   "cell_type": "code",
   "execution_count": null,
   "metadata": {},
   "outputs": [],
   "source": [
    "report"
   ]
  },
  {
   "cell_type": "code",
   "execution_count": null,
   "metadata": {},
   "outputs": [],
   "source": [
    "reportdataNo3003"
   ]
  },
  {
   "cell_type": "code",
   "execution_count": null,
   "metadata": {},
   "outputs": [],
   "source": []
  }
 ],
 "metadata": {
  "kernelspec": {
   "display_name": "Python 3",
   "language": "python",
   "name": "python3"
  },
  "language_info": {
   "codemirror_mode": {
    "name": "ipython",
    "version": 3
   },
   "file_extension": ".py",
   "mimetype": "text/x-python",
   "name": "python",
   "nbconvert_exporter": "python",
   "pygments_lexer": "ipython3",
   "version": "3.7.3"
  }
 },
 "nbformat": 4,
 "nbformat_minor": 2
}
